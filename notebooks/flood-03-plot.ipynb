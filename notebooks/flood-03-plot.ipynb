{
  "cells": [
    {
      "cell_type": "markdown",
      "metadata": {},
      "source": [
        "# The Midwest underwater\n",
        "\n",
        "A look at 2019 floods in South Dakota, USA\n",
        "\n",
        "Elsa Culler  \n",
        "Nate Quarderer  \n",
        "2025-05-19\n",
        "\n",
        "## Set up\n",
        "\n",
        "To get started on this notebook, you’ll need to restore any variables\n",
        "from previous notebooks to your workspace."
      ],
      "id": "2e51adab-82d8-4673-a46a-2bf6470ccce0"
    },
    {
      "cell_type": "code",
      "execution_count": 1,
      "metadata": {},
      "outputs": [],
      "source": [
        "%store -r\n",
        "\n",
        "# Import libraries"
      ],
      "id": "dc5ff8a7"
    },
    {
      "cell_type": "markdown",
      "metadata": {},
      "source": [
        "## STEP 3: Visualize the flood\n",
        "\n",
        "Visualizing the data will help make sure that everything is formatted\n",
        "correctly and makes sense. It also helps later on with communicating\n",
        "your results.\n",
        "\n",
        "### Can we see the flood in the streamflow data?\n",
        "\n",
        "Let’s take a look at the data from February - September, 2019. This\n",
        "should let us see the peak streamflow values and when they occurred.\n",
        "\n",
        "<link rel=\"stylesheet\" type=\"text/css\" href=\"./assets/styles.css\"><div class=\"callout callout-style-default callout-titled callout-task\"><div class=\"callout-header\"><div class=\"callout-icon-container\"><i class=\"callout-icon\"></i></div><div class=\"callout-title-container flex-fill\">Try It</div></div><div class=\"callout-body-container callout-body\"><p>Below, you will see an example of how to subset your streamflow data\n",
        "by date.We do this using the <code>.loc</code> attribute of your\n",
        "<code>DataFrame</code>, which is a powerful tool for selecting the rows\n",
        "you want. Because the dates are in the Python <code>datetime64</code>\n",
        "format, you can select based on the year and month, without needing to\n",
        "type out dates or times!</p>\n",
        "<ol type=\"1\">\n",
        "<li>Replace <code>dataframe_name</code> with your streamflow\n",
        "<code>DataFrame</code> name.</li>\n",
        "<li>Save the result to a descriptive variable name, and call it at the\n",
        "end of the cell for testing.</li>\n",
        "</ol></div></div>\n",
        "\n",
        "You can find some [examples of subsetting time series data in the\n",
        "textbook](https://www.earthdatascience.org/courses/use-data-open-source-python/use-time-series-data-in-python/date-time-types-in-pandas-python/subset-time-series-data-python/)."
      ],
      "id": "fc5d2a16-844c-4ddc-a44d-e39625f55f0d"
    },
    {
      "cell_type": "code",
      "execution_count": 2,
      "metadata": {
        "template": "student"
      },
      "outputs": [],
      "source": [
        "dataframe_name.loc['2019-02':'2019-09']"
      ],
      "id": "4f70d1bf"
    },
    {
      "cell_type": "markdown",
      "metadata": {},
      "source": [
        "### Create a line plot with Python\n",
        "\n",
        "Next, plot your subsetted data. Don’t forget to label your plot!\n",
        "\n",
        "<link rel=\"stylesheet\" type=\"text/css\" href=\"./assets/styles.css\"><div class=\"callout callout-style-default callout-titled callout-task\"><div class=\"callout-header\"><div class=\"callout-icon-container\"><i class=\"callout-icon\"></i></div><div class=\"callout-title-container flex-fill\">Try It</div></div><div class=\"callout-body-container callout-body\"></div></div>"
      ],
      "id": "aec3825a-3029-4354-ae15-a38ca8afc4b3"
    },
    {
      "cell_type": "code",
      "execution_count": 4,
      "metadata": {
        "template": "student"
      },
      "outputs": [],
      "source": [
        "(\n",
        "    dataframe_name\n",
        "    .plot(\n",
        "        xlabel='', \n",
        "        ylabel='',\n",
        "        title='')\n",
        ")"
      ],
      "id": "85166cbd"
    },
    {
      "cell_type": "markdown",
      "metadata": {},
      "source": [
        "You should be able to see the flood in your data going up above 12000\n",
        "cfs at its peak! In the next section, you’ll analyze how unusual that\n",
        "is.\n",
        "\n",
        "## Wrap up\n",
        "\n",
        "Don’t forget to store your variables so you can use them in other\n",
        "notebooks! This code will store all your variables. You might want to\n",
        "specify specific variables, especially if you have large objects in\n",
        "memory that you won’t need in the future."
      ],
      "id": "d0823b85-cd4c-4d07-86a5-9c5260ba8d4f"
    },
    {
      "cell_type": "code",
      "execution_count": 6,
      "metadata": {},
      "outputs": [],
      "source": [
        "%store"
      ],
      "id": "4f730a5d"
    },
    {
      "cell_type": "markdown",
      "metadata": {},
      "source": [
        "Finally, be sure to `Restart` and `Run all` to make sure your notebook\n",
        "works all the way through!"
      ],
      "id": "680ec324-4837-4781-9888-735a0771910f"
    }
  ],
  "nbformat": 4,
  "nbformat_minor": 5,
  "metadata": {
    "kernelspec": {
      "name": "python3",
      "display_name": "Python 3 (ipykernel)",
      "language": "python",
      "path": "/Users/elsa/miniconda3/envs/learning-portal/share/jupyter/kernels/python3"
    },
    "language_info": {
      "name": "python",
      "codemirror_mode": {
        "name": "ipython",
        "version": "3"
      },
      "file_extension": ".py",
      "mimetype": "text/x-python",
      "nbconvert_exporter": "python",
      "pygments_lexer": "ipython3",
      "version": "3.10.17"
    }
  }
}