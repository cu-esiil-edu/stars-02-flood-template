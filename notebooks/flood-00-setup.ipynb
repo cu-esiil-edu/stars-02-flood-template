{
  "cells": [
    {
      "cell_type": "markdown",
      "metadata": {},
      "source": [
        "# The Midwest underwater\n",
        "\n",
        "A look at 2019 floods in South Dakota, USA\n",
        "\n",
        "Elsa Culler  \n",
        "Nate Quarderer  \n",
        "2025-05-20\n",
        "\n",
        "# Access streamflow data\n",
        "\n",
        "One way to express how big a flood is by estimating how often larger\n",
        "floods occur. For example, you might have heard news media talking about\n",
        "a “100-year flood”.\n",
        "\n",
        "In this notebook, you will write Python code to download and work with a\n",
        "**time series** of streamflow data during the flooding on the Cheyenne\n",
        "River.\n",
        "\n",
        "> **Tip**\n",
        ">\n",
        "> A **time series** of data is taken at the same location but collected\n",
        "> regularly or semi-regularly over time.\n",
        "\n",
        "You will then use the data to assess when the flooding was at it’s\n",
        "worst.\n",
        "\n",
        "As an **extra challenge** you could consider how the values compared to\n",
        "other years by computing the flood’s **return period**.\n",
        "\n",
        "> **Tip**\n",
        ">\n",
        "> A **return period** is an estimate of how often you might expect to\n",
        "> see a flood of at least a particular size. This does *NOT* mean an\n",
        "> extreme flood “has” to occur within the return period, or that it\n",
        "> couldn’t occur more than once. However, it does allow us to assess the\n",
        "> probability that a sequence of floods would happen and evaluate\n",
        "> whether or not we need to change forecasting tools or engineering\n",
        "> standards to meet a new reality. For example, it would be really\n",
        "> unusual to get three 100-year floods in a ten year period without some\n",
        "> kind of underlying change in the climate.\n",
        "\n",
        "<link rel=\"stylesheet\" type=\"text/css\" href=\"./assets/styles.css\"><div class=\"callout callout-style-default callout-titled callout-read\"><div class=\"callout-header\"><div class=\"callout-icon-container\"><i class=\"callout-icon\"></i></div><div class=\"callout-title-container flex-fill\">Read More</div></div><div class=\"callout-body-container callout-body\"><p>Here are some resources from your text book you can review to learn\n",
        "more:</p>\n",
        "<ul>\n",
        "<li><a\n",
        "href=\"https://www.earthdatascience.org/courses/use-data-open-source-python/use-time-series-data-in-python/\">Introduction\n",
        "to time-series data</a></li>\n",
        "<li><a\n",
        "href=\"https://www.earthdatascience.org/courses/use-data-open-source-python/use-time-series-data-in-python/floods-return-period-and-probability/\">Flood\n",
        "return period and probability</a></li>\n",
        "</ul></div></div>\n",
        "\n",
        "<link rel=\"stylesheet\" type=\"text/css\" href=\"./assets/styles.css\"><div class=\"callout callout-style-default callout-titled callout-respond\"><div class=\"callout-header\"><div class=\"callout-icon-container\"><i class=\"callout-icon\"></i></div><div class=\"callout-title-container flex-fill\">Reflect and Respond</div></div><div class=\"callout-body-container callout-body\"><p>Explain what data you will need to complete this analysis,\n",
        "including:</p>\n",
        "<ol type=\"1\">\n",
        "<li>What type or types of data do you need?</li>\n",
        "<li>How many years of data do you think you need to compute the return\n",
        "period of an extreme event like the <span data-__quarto_custom=\"true\"\n",
        "data-__quarto_custom_type=\"Shortcode\"\n",
        "data-__quarto_custom_context=\"Inline\"\n",
        "data-__quarto_custom_id=\"1\"></span> <span data-__quarto_custom=\"true\"\n",
        "data-__quarto_custom_type=\"Shortcode\"\n",
        "data-__quarto_custom_context=\"Inline\"\n",
        "data-__quarto_custom_id=\"2\"></span> floods?</li>\n",
        "</ol></div></div>"
      ],
      "id": "56d0941a-ed7d-4501-ba30-546e07a97c54"
    },
    {
      "cell_type": "markdown",
      "metadata": {},
      "source": [
        "YOUR ANSWER HERE"
      ],
      "id": "b02c3816-0d3c-4da4-8d59-01eb5ed37df8"
    },
    {
      "cell_type": "markdown",
      "metadata": {},
      "source": [
        "## STEP 0: Get set up to use Python\n",
        "\n",
        "Use the cell below to add necessary **package imports** to this\n",
        "notebook. It’s best to import everything in your very first code cell\n",
        "because it helps folks who are reading your code to figure out where\n",
        "everything comes from (mostly right now this is **you** in the future).\n",
        "It’s *very* frustrating to try to figure out what packages need to be\n",
        "installed to get some code to run.\n",
        "\n",
        "> **Note**\n",
        ">\n",
        "> Our friend [the PEP-8 style guide has some things to say about\n",
        "> imports](https://peps.python.org/pep-0008/#imports). In particular,\n",
        "> your imports should be in alphabetical order.\n",
        "\n",
        "<link rel=\"stylesheet\" type=\"text/css\" href=\"./assets/styles.css\"><div class=\"callout callout-style-default callout-titled callout-task\"><div class=\"callout-header\"><div class=\"callout-icon-container\"><i class=\"callout-icon\"></i></div><div class=\"callout-title-container flex-fill\">Try It</div></div><div class=\"callout-body-container callout-body\"><p>In the sample code below, we’ve imported a library needed for working\n",
        "with <strong>tabular</strong>, or spreadsheet, data, as well as our own\n",
        "library for common Environmental Data Analytics tasks (in this case,\n",
        "managing files on your computer). You will also need to:</p>\n",
        "<ol type=\"1\">\n",
        "<li>Add the <strong>library for working with vector data in\n",
        "Python</strong> and a <strong>library for creating interactive plots of\n",
        "vector and time-series data</strong> to the imports.</li>\n",
        "<li>Check that your imports follow the PEP-8 guidelines – they should be\n",
        "in alphabetical order.</li>\n",
        "<li>Run your import cell to make sure everything will work</li>\n",
        "</ol></div></div>"
      ],
      "id": "e1d08bb5-7982-4740-bf2f-d293be46d9e2"
    },
    {
      "cell_type": "code",
      "execution_count": 2,
      "metadata": {
        "template": "student"
      },
      "outputs": [],
      "source": [
        "# Import libraries\n",
        "import earthpy\n",
        "import pandas as pd"
      ],
      "id": "561d59c5"
    },
    {
      "cell_type": "markdown",
      "metadata": {},
      "source": [
        "We like to keep important values up at the top of the notebook – it\n",
        "makes them easy to modify. You can use the following cell to change\n",
        "parameters about your workflow if you like:"
      ],
      "id": "ffb9d271-fc31-4d11-a14a-f71f2ca22511"
    },
    {
      "cell_type": "code",
      "execution_count": 4,
      "metadata": {
        "tags": [
          "parameters"
        ]
      },
      "outputs": [],
      "source": [
        "id = 'stars'\n",
        "site_name = 'Cheyenne River near Wasta'\n",
        "year = 2019\n",
        "project_title = 'Cheyenne River Flood Frequency'\n",
        "project_dirname = 'flood-cheyenne'"
      ],
      "id": "5c3aebd2"
    },
    {
      "cell_type": "markdown",
      "metadata": {},
      "source": [
        "Finally, we have arranged some sample data for you, which you can\n",
        "download using the `earthpy` library. Later on, you’ll learn how to\n",
        "download data from the NWIS using the `dataretrieval` library. For now,\n",
        "you can use the sample data downloaded with the `earthpy` library.\n",
        "\n",
        "<link rel=\"stylesheet\" type=\"text/css\" href=\"./assets/styles.css\"><div class=\"callout callout-style-default callout-titled callout-task\"><div class=\"callout-header\"><div class=\"callout-icon-container\"><i class=\"callout-icon\"></i></div><div class=\"callout-title-container flex-fill\">Try It</div></div><div class=\"callout-body-container callout-body\"><p>The following code will download the sample data based on the value\n",
        "of “title”, and store it in the data directory on your computer. It will\n",
        "also save the path to the downloaded data. You can use the\n",
        "<code>project</code> later on to do things like locate data files on the\n",
        "computer or image you’re using to code. You should practice writing\n",
        "descriptive code by:</p>\n",
        "<ol type=\"1\">\n",
        "<li>Change <code>'project-folder-name'</code> to a descriptive directory\n",
        "name where you want to store your data.</li>\n",
        "<li>Change <code>data_path</code> to a descriptive variable name</li>\n",
        "<li>Run the data download cell to make sure everything will work</li>\n",
        "</ol></div></div>"
      ],
      "id": "a9cabb83-13a5-45d7-8453-34b4d65a4f31"
    },
    {
      "cell_type": "code",
      "execution_count": 5,
      "metadata": {
        "template": "student"
      },
      "outputs": [],
      "source": [
        "# Create project directory\n",
        "project = earthpy.Project(title=project_title, dirname='project-folder-name')\n",
        "# Download data\n",
        "data_path = project.get_data()\n",
        "# Display the project data directory location\n",
        "project.project_dir"
      ],
      "id": "8c271f45"
    },
    {
      "cell_type": "markdown",
      "metadata": {},
      "source": [
        "You can use an open science tool called `bash` or the `shell` to work\n",
        "with files and get information about your file system. For example, this\n",
        "code will **list** (ls) the contents of the project directory"
      ],
      "id": "d2da2834-b08b-45aa-8bcc-1c023d2717f7"
    },
    {
      "cell_type": "code",
      "execution_count": 7,
      "metadata": {},
      "outputs": [],
      "source": [
        "!ls \"$project.project_dir\""
      ],
      "id": "6615053d"
    },
    {
      "cell_type": "markdown",
      "metadata": {},
      "source": [
        "<link rel=\"stylesheet\" type=\"text/css\" href=\"./assets/styles.css\"><div class=\"callout callout-style-default callout-titled callout-task\"><div class=\"callout-header\"><div class=\"callout-icon-container\"><i class=\"callout-icon\"></i></div><div class=\"callout-title-container flex-fill\">Try It</div></div><div class=\"callout-body-container callout-body\"><p>Go check to see if you can find the files using some other\n",
        "method!</p></div></div>\n",
        "\n",
        "> **Warning**\n",
        ">\n",
        "> Are you working in the cloud, such as on GitHub Codespaces? Be aware\n",
        "> that any files you download to a cloud computer **will not be saved**\n",
        "> on the physical computer you are using! They will remain in the cloud.\n",
        "> So, you will not be able to see any downloaded files using the File\n",
        "> Explorer or Finder on your computer because they aren’t there.\n",
        "\n",
        "## Wrap up\n",
        "\n",
        "Don’t forget to store your variables so you can use them in other\n",
        "notebooks! This code will store all your variables. You might want to\n",
        "specify specific variables, especially if you have large objects in\n",
        "memory that you won’t need in the future."
      ],
      "id": "bee16450-9f2f-4cd2-a7bf-205484adfc94"
    },
    {
      "cell_type": "code",
      "execution_count": 8,
      "metadata": {},
      "outputs": [],
      "source": [
        "%store"
      ],
      "id": "020149ed"
    },
    {
      "cell_type": "markdown",
      "metadata": {},
      "source": [
        "Finally, be sure to `Restart` and `Run all` to make sure your notebook\n",
        "works all the way through!"
      ],
      "id": "6aadb99d-988c-4823-8429-486b94e45f07"
    }
  ],
  "nbformat": 4,
  "nbformat_minor": 5,
  "metadata": {
    "kernelspec": {
      "name": "python3",
      "display_name": "Python 3 (ipykernel)",
      "language": "python",
      "path": "/Users/elsa/miniconda3/envs/learning-portal/share/jupyter/kernels/python3"
    },
    "language_info": {
      "name": "python",
      "codemirror_mode": {
        "name": "ipython",
        "version": "3"
      },
      "file_extension": ".py",
      "mimetype": "text/x-python",
      "nbconvert_exporter": "python",
      "pygments_lexer": "ipython3",
      "version": "3.10.17"
    }
  }
}