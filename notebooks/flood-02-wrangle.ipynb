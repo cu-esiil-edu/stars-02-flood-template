{
  "cells": [
    {
      "cell_type": "markdown",
      "metadata": {},
      "source": [
        "# The Midwest underwater\n",
        "\n",
        "A look at 2019 floods in South Dakota, USA\n",
        "\n",
        "Elsa Culler  \n",
        "Nate Quarderer  \n",
        "2025-05-19\n",
        "\n",
        "## Set up\n",
        "\n",
        "To get started on this notebook, you’ll need to restore any variables\n",
        "from previous notebooks to your workspace."
      ],
      "id": "a3641d73-01e7-4dac-9285-dadea5b9e81d"
    },
    {
      "cell_type": "code",
      "execution_count": 1,
      "metadata": {},
      "outputs": [],
      "source": [
        "%store -r\n",
        "\n",
        "# Import libraries"
      ],
      "id": "08a4b456"
    },
    {
      "cell_type": "markdown",
      "metadata": {},
      "source": [
        "## STEP 2 Data wrangling\n",
        "\n",
        "### Set up your analysis\n",
        "\n",
        "First things first – let’s load your stored variables and import any\n",
        "libraries you need."
      ],
      "id": "76b477d5-ec86-451d-9d4e-f89b481b9285"
    },
    {
      "cell_type": "code",
      "execution_count": 2,
      "metadata": {},
      "outputs": [],
      "source": [
        "%store -r project streamflow_path"
      ],
      "id": "6d918b9c"
    },
    {
      "cell_type": "markdown",
      "metadata": {},
      "source": [
        "### Load sample data\n",
        "\n",
        "You should now have the sample data downloaded, but you still need to\n",
        "open it up so you can use it. First, you’ll need the path to your data.\n",
        "\n",
        "<link rel=\"stylesheet\" type=\"text/css\" href=\"./assets/styles.css\"><div class=\"callout callout-style-default callout-titled callout-task\"><div class=\"callout-header\"><div class=\"callout-icon-container\"><i class=\"callout-icon\"></i></div><div class=\"callout-title-container flex-fill\">Try It</div></div><div class=\"callout-body-container callout-body\"><ol type=\"1\">\n",
        "<li>Replace <code>data_path</code> with a descriptive name</li>\n",
        "<li>Check your data directory for the file name of the streamflow data,\n",
        "and put it in the place of <code>data-filename-here</code></li>\n",
        "</ol></div></div>"
      ],
      "id": "4664793a-640c-4a4d-9bf9-45e299d5eabd"
    },
    {
      "cell_type": "code",
      "execution_count": 3,
      "metadata": {
        "template": "student"
      },
      "outputs": [],
      "source": [
        "data_path = project.project_dir / 'data-filename-here.csv'"
      ],
      "id": "33b7e0f8"
    },
    {
      "cell_type": "markdown",
      "metadata": {},
      "source": [
        "Let’s take a look at the raw data (make sure to replace `nwis_path` with\n",
        "the name of your variable!):"
      ],
      "id": "4b79ec3e-2429-467c-9759-8a425e6e3c0a"
    },
    {
      "cell_type": "code",
      "execution_count": 5,
      "metadata": {},
      "outputs": [],
      "source": [
        "!head -n 5 $nwis_path"
      ],
      "id": "017a84c3"
    },
    {
      "cell_type": "markdown",
      "metadata": {},
      "source": [
        "<link rel=\"stylesheet\" type=\"text/css\" href=\"./assets/styles.css\"><div class=\"callout callout-style-default callout-titled callout-task\"><div class=\"callout-header\"><div class=\"callout-icon-container\"><i class=\"callout-icon\"></i></div><div class=\"callout-title-container flex-fill\">Try It</div></div><div class=\"callout-body-container callout-body\"><p>The cell below imports <code>CSV</code> data like the flood data into\n",
        "Python. A useful method for looking at the <strong>datatypes</strong> in\n",
        "your <code>pd.DataFrame</code> is the <code>pd.DataFrame.info()</code>\n",
        "method.</p>\n",
        "<ol type=\"1\">\n",
        "<li>Replace <code>dataframe</code> with a descriptive name for your\n",
        "DataFrame variable</li>\n",
        "<li>Run the cell to see the datatypes of each column.</li>\n",
        "<li>Try <strong>uncommenting</strong> lines one by one by deleting the\n",
        "<code>#</code> at the beginning and running the code again.</li>\n",
        "</ol>\n",
        "<p>What changes? Why do you think those lines are needed?</p></div></div>\n",
        "\n",
        "> **Tip**\n",
        ">\n",
        "> In Python, you will see both **methods** and **functions** when you\n",
        "> want to give the computer some instructions. This is an *important and\n",
        "> tricky* distinction. For right now – functions have all of their\n",
        "> arguments/parameters **inside** the parentheses, as in\n",
        "> `dataretrieval.nwis.get_discharge_measurements()`. For **methods**,\n",
        "> the first argument is always some kind of Python object that is placed\n",
        "> **before** the method. For example, take a look at the next cell for\n",
        "> an example of using the `pd.DataFrame.info()` **method**."
      ],
      "id": "00c5dc8d-6dc2-4c67-9d42-281d560d3ca6"
    },
    {
      "cell_type": "code",
      "execution_count": 6,
      "metadata": {
        "template": "student"
      },
      "outputs": [],
      "source": [
        "dataframe = pd.read_csv(\n",
        "    data_path,\n",
        "    #index_col='datetime',\n",
        "    #parse_dates=True)\n",
        "dataframe.info()"
      ],
      "id": "ac1037a2"
    },
    {
      "cell_type": "markdown",
      "metadata": {},
      "source": [
        "<link rel=\"stylesheet\" type=\"text/css\" href=\"./assets/styles.css\"><div class=\"callout callout-style-default callout-titled callout-respond\"><div class=\"callout-header\"><div class=\"callout-icon-container\"><i class=\"callout-icon\"></i></div><div class=\"callout-title-container flex-fill\">Reflect and Respond</div></div><div class=\"callout-body-container callout-body\"><p>What column do you think the streamflow, or discharge, measurements\n",
        "are in?</p></div></div>"
      ],
      "id": "7a6dd473-3c5a-4684-93d5-e99746d5d53a"
    },
    {
      "cell_type": "markdown",
      "metadata": {},
      "source": [
        "COLUMN NAME HERE"
      ],
      "id": "d17aa386-bca1-4218-be51-8a676f5e8b8c"
    },
    {
      "cell_type": "markdown",
      "metadata": {},
      "source": [
        "### Organize your data descriptively\n",
        "\n",
        "It’s important to make sure that your code is easy to read. Even if you\n",
        "don’t plan to share it, **you** will likely need to read code you’ve\n",
        "written in the future!\n",
        "\n",
        "<link rel=\"stylesheet\" type=\"text/css\" href=\"./assets/styles.css\"><div class=\"callout callout-style-default callout-titled callout-task\"><div class=\"callout-header\"><div class=\"callout-icon-container\"><i class=\"callout-icon\"></i></div><div class=\"callout-title-container flex-fill\">Try It</div></div><div class=\"callout-body-container callout-body\"><p>Using the code below as a starting point, select the discharge column\n",
        "and rename it to something descriptive:</p>\n",
        "<ol type=\"1\">\n",
        "<li>Identify the discharge/streamflow column.</li>\n",
        "<li>Replace <code>discharge_column_name</code> with the discharge column\n",
        "name.</li>\n",
        "<li>Replace <code>new_column_name</code> with a descriptive name. We\n",
        "recommend including the <strong>units</strong> of the discharge values\n",
        "in the column name as a way to keep track of them.</li>\n",
        "</ol></div></div>"
      ],
      "id": "ef10e554-6593-45af-a001-419cb2cd7bf1"
    },
    {
      "cell_type": "code",
      "execution_count": 8,
      "metadata": {
        "template": "student"
      },
      "outputs": [],
      "source": [
        "discharge_df = (\n",
        "    nwis_df\n",
        "    # Select only the discharge column as a DataFrame\n",
        "    [['discharge_column_name']]\n",
        "    # Rename the discharge column\n",
        "    .rename(columns={'discharge_column_name': 'new_column_name'})\n",
        ")\n",
        "\n",
        "discharge_df"
      ],
      "id": "4b1905ad"
    },
    {
      "cell_type": "code",
      "execution_count": 9,
      "metadata": {
        "template": "answer"
      },
      "outputs": [],
      "source": [
        "discharge_df = (\n",
        "    nwis_df\n",
        "    # Select only the discharge column as a DataFrame\n",
        "    [['00060_Mean']]\n",
        "    # Rename the discharge column\n",
        "    .rename(columns={'00060_Mean': 'streamflow_cfs'})\n",
        ")\n",
        "\n",
        "discharge_df"
      ],
      "id": "2a24c351"
    },
    {
      "cell_type": "markdown",
      "metadata": {},
      "source": [
        "> **Strings**\n",
        ">\n",
        "> How does a computer tell the difference between a **name** which is\n",
        "> linked to a value, and a **string** of characters to be interpreted as\n",
        "> text (like a column name)?\n",
        ">\n",
        "> In most programming languages, we have to put quotes around strings of\n",
        "> characters that are meant to be interpreted **literally** as text\n",
        "> rather than **symbolically** as a variable. In Python, you can use\n",
        "> either single `'` or double `\"` quotes around strings. If you forget\n",
        "> to put quotes around your strings, Python will try to interpret them\n",
        "> as variable **names** instead, and will probably give you a\n",
        "> `NameError` when it can’t find the linked value.\n",
        "\n",
        "Don’t forget to store your dataframe so you can continue using it in the\n",
        "next notebook."
      ],
      "id": "090de39e-6e77-4f33-9b3b-9b3ee98d2e3c"
    },
    {
      "cell_type": "code",
      "execution_count": 10,
      "metadata": {},
      "outputs": [],
      "source": [
        "%store discharge_df"
      ],
      "id": "dbcb9161"
    },
    {
      "cell_type": "markdown",
      "metadata": {},
      "source": [
        "## Wrap up\n",
        "\n",
        "Don’t forget to store your variables so you can use them in other\n",
        "notebooks! This code will store all your variables. You might want to\n",
        "specify specific variables, especially if you have large objects in\n",
        "memory that you won’t need in the future."
      ],
      "id": "cec5b5af-deb3-4342-8072-f6264b55800a"
    },
    {
      "cell_type": "code",
      "execution_count": 11,
      "metadata": {},
      "outputs": [],
      "source": [
        "%store"
      ],
      "id": "36915047"
    },
    {
      "cell_type": "markdown",
      "metadata": {},
      "source": [
        "Finally, be sure to `Restart` and `Run all` to make sure your notebook\n",
        "works all the way through!"
      ],
      "id": "37b7fb5e-6396-45e0-a00e-e87a5d1120c2"
    }
  ],
  "nbformat": 4,
  "nbformat_minor": 5,
  "metadata": {
    "kernelspec": {
      "name": "python3",
      "display_name": "Python 3 (ipykernel)",
      "language": "python",
      "path": "/Users/elsa/miniconda3/envs/learning-portal/share/jupyter/kernels/python3"
    },
    "language_info": {
      "name": "python",
      "codemirror_mode": {
        "name": "ipython",
        "version": "3"
      },
      "file_extension": ".py",
      "mimetype": "text/x-python",
      "nbconvert_exporter": "python",
      "pygments_lexer": "ipython3",
      "version": "3.10.17"
    }
  }
}