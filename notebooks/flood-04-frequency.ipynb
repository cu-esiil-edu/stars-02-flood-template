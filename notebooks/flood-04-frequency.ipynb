{
  "cells": [
    {
      "cell_type": "markdown",
      "metadata": {},
      "source": [
        "# The Midwest underwater\n",
        "\n",
        "A look at 2019 floods in South Dakota, USA\n",
        "\n",
        "Elsa Culler  \n",
        "Nate Quarderer  \n",
        "2025-05-19\n",
        "\n",
        "## Set up\n",
        "\n",
        "To get started on this notebook, you’ll need to restore any variables\n",
        "from previous notebooks to your workspace."
      ],
      "id": "f9483083-f7d0-4bee-81e0-140ba87c1b3a"
    },
    {
      "cell_type": "code",
      "execution_count": 1,
      "metadata": {},
      "outputs": [],
      "source": [
        "%store -r\n",
        "\n",
        "# Import libraries"
      ],
      "id": "60356439"
    },
    {
      "cell_type": "markdown",
      "metadata": {},
      "source": [
        "## STEP 4: Analyse the flood\n",
        "\n",
        "As scientists and engineers, we are interested in not just describing a\n",
        "flood, but in understanding how often we would expect an event that\n",
        "severe or extreme to happen. Some applications we need this information\n",
        "for include:\n",
        "\n",
        "-   Designing and developing engineering standards for bridges and roads\n",
        "    to withstand flooding\n",
        "-   Choosing the capacity of water treatment plants to accommodate flood\n",
        "    waters\n",
        "-   Computing flood risk maps and choosing where to build\n",
        "-   Determining flood insurance rates\n",
        "\n",
        "The exceedance probability is a simple, data-driven way to quantify how\n",
        "unusual a flood is and how often we can expect similar events to happen.\n",
        "We calculate exceedance probability by counting how many years with\n",
        "floods the same size or larger have been recorded, or ranking the and\n",
        "dividing by the number of years we have records for:\n",
        "\n",
        "$$P_e = \\frac{\\text{Annual peak flow rank}}{\\text{Years of record}}$$\n",
        "\n",
        "This value tells us historically what the likelihood was of a flood of a\n",
        "certain size or larger each year, or the **exceedance probability**. We\n",
        "can also express how unusual a flood is with the **return period**, or\n",
        "an amount of time during which we’d expect there to be about one flood\n",
        "the same size or larger. The return period is the reciprocal of the\n",
        "exceedance probability:\n",
        "\n",
        "$$R = \\frac{\\text{Years of record}}{\\text{Annual peak flow rank}}$$\n",
        "\n",
        "As an example – suppose a streamflow of $10000$ cfs occurs $4$ times\n",
        "over a 100-year record. The exceedance probability would be\n",
        "$\\frac{4}{100} = .25$ and the return period would be 25 years.\n",
        "\n",
        "There are advantages and disadvantages to this method of calculating the\n",
        "**exceedance probability**. On one hand, we are not making any\n",
        "assumptions about how often floods occur, and there is no way to\n",
        "extrapolate to a size of flood that has never been observed. On the\n",
        "other hand, we can’t incorporate any information about how often floods\n",
        "occur nearby or in other locations, and the data record for streamflow\n",
        "is often less than the desired lifetime of the built environment.\n",
        "\n",
        "<link rel=\"stylesheet\" type=\"text/css\" href=\"./assets/styles.css\"><div class=\"callout callout-style-default callout-titled callout-read\"><div class=\"callout-header\"><div class=\"callout-icon-container\"><i class=\"callout-icon\"></i></div><div class=\"callout-title-container flex-fill\">Read More</div></div><div class=\"callout-body-container callout-body\"><p>You can learn more about exceedance probabilities and return periods\n",
        "in <a\n",
        "href=\"https://www.earthdatascience.org/courses/use-data-open-source-python/use-time-series-data-in-python/floods-return-period-and-probability/\">this\n",
        "textbook page on the subject</a></p></div></div>\n",
        "\n",
        "Let’s start by accessing and plotting ALL the data available for this\n",
        "site. Then we’ll use a return period **statistic** to quantify how\n",
        "unusual it was.\n",
        "\n",
        "### Visualize all the streamflow data\n",
        "\n",
        "<link rel=\"stylesheet\" type=\"text/css\" href=\"./assets/styles.css\"><div class=\"callout callout-style-default callout-titled callout-task\"><div class=\"callout-header\"><div class=\"callout-icon-container\"><i class=\"callout-icon\"></i></div><div class=\"callout-title-container flex-fill\">Try It</div></div><div class=\"callout-body-container callout-body\"><p>In the cell below, plot the entire time series of streamflow data,\n",
        "without any parameters.</p></div></div>"
      ],
      "id": "a98374e3-ee41-4ff5-9c0e-b2edcf422460"
    },
    {
      "cell_type": "code",
      "execution_count": 2,
      "metadata": {},
      "outputs": [],
      "source": [
        "# Plot the entire streamflow time series"
      ],
      "id": "32a19297"
    },
    {
      "cell_type": "code",
      "execution_count": 3,
      "metadata": {
        "template": "answer"
      },
      "outputs": [],
      "source": [
        "# Plot the entire streamflow time series\n",
        "(\n",
        "    discharge_df\n",
        "    .plot(\n",
        "        xlabel='Date', \n",
        "        ylabel='Streamflow (cfs)',\n",
        "        title='90 Years of Streamflow on the Cheyenne River',\n",
        "        legend=False)\n",
        ")"
      ],
      "id": "83cbcd05"
    },
    {
      "cell_type": "markdown",
      "metadata": {},
      "source": [
        "<link rel=\"stylesheet\" type=\"text/css\" href=\"./assets/styles.css\"><div class=\"callout callout-style-default callout-titled callout-respond\"><div class=\"callout-header\"><div class=\"callout-icon-container\"><i class=\"callout-icon\"></i></div><div class=\"callout-title-container flex-fill\">Reflect and Respond</div></div><div class=\"callout-body-container callout-body\"><p>Do you notice anything about this plot?</p></div></div>\n",
        "\n",
        "First things first – this plot looks a little fuzzy because it is trying\n",
        "to fit too many data points in a small area. There aren’t enough pixels\n",
        "in this plot to represent all the data points! One way to improve this\n",
        "is by **resampling** the data to **annual maxima**. That way we still\n",
        "get the same peak streamflows, but the computer will be able to plot all\n",
        "the values without overlapping.\n",
        "\n",
        "> **Tip**\n",
        ">\n",
        "> **Resampling** means changing the time interval between time series\n",
        "> observations - in this case from daily to annual.\n",
        "\n",
        "<link rel=\"stylesheet\" type=\"text/css\" href=\"./assets/styles.css\"><div class=\"callout callout-style-default callout-titled callout-read\"><div class=\"callout-header\"><div class=\"callout-icon-container\"><i class=\"callout-icon\"></i></div><div class=\"callout-title-container flex-fill\">Read More</div></div><div class=\"callout-body-container callout-body\"><p>Read about <a\n",
        "href=\"https://www.earthdatascience.org/courses/use-data-open-source-python/use-time-series-data-in-python/date-time-types-in-pandas-python/resample-time-series-data-pandas-python/\">different\n",
        "ways to resample time series data in your textbook</a></p>\n",
        "<p>You can use a <a\n",
        "href=\"https://pandas.pydata.org/docs/dev/user_guide/timeseries.html#timeseries-offset-aliases\">list\n",
        "of <strong>offset aliases</strong></a> to look up how to specify the\n",
        "final dates. This list is pretty hard to find - you might want to\n",
        "bookmark it or check back with this page if you need it again.</p></div></div>\n",
        "\n",
        "<link rel=\"stylesheet\" type=\"text/css\" href=\"./assets/styles.css\"><div class=\"callout callout-style-default callout-titled callout-task\"><div class=\"callout-header\"><div class=\"callout-icon-container\"><i class=\"callout-icon\"></i></div><div class=\"callout-title-container flex-fill\">Try It</div></div><div class=\"callout-body-container callout-body\"><p>Resample your <code>DataFrame</code> to get an annual maximum:</p>\n",
        "<ol type=\"1\">\n",
        "<li>Replace <code>dataframe_name</code> with the name of your\n",
        "<code>DataFrame</code>.</li>\n",
        "<li>Replace <code>offset_alias</code> with the correct offset alias from\n",
        "the <a\n",
        "href=\"https://pandas.pydata.org/docs/dev/user_guide/timeseries.html#timeseries-offset-aliases\">pandas\n",
        "documentation</a></li>\n",
        "<li>Save the results to a new, descriptive variable name, and display\n",
        "the results of the resampling.</li>\n",
        "</ol></div></div>"
      ],
      "id": "e5c76201-63b6-4b56-a221-d29c59b7c130"
    },
    {
      "cell_type": "code",
      "execution_count": 4,
      "metadata": {
        "template": "student"
      },
      "outputs": [],
      "source": [
        "# Resample to annual maxima\n",
        "dataframe_name.resample(offset_alias).max()"
      ],
      "id": "f2ef77d9"
    },
    {
      "cell_type": "code",
      "execution_count": 5,
      "metadata": {
        "template": "answer"
      },
      "outputs": [],
      "source": [
        "# Resample to annual maxima\n",
        "peaks_df = discharge_df.resample('YS').max()\n",
        "peaks_df"
      ],
      "id": "37a48040"
    },
    {
      "cell_type": "markdown",
      "metadata": {},
      "source": [
        "<link rel=\"stylesheet\" type=\"text/css\" href=\"./assets/styles.css\"><div class=\"callout callout-style-default callout-titled callout-task\"><div class=\"callout-header\"><div class=\"callout-icon-container\"><i class=\"callout-icon\"></i></div><div class=\"callout-title-container flex-fill\">Try It</div></div><div class=\"callout-body-container callout-body\"><p>Plot your resampled data.</p></div></div>"
      ],
      "id": "73389f37-50c2-48a8-8f88-a467fc2254fc"
    },
    {
      "cell_type": "code",
      "execution_count": 6,
      "metadata": {
        "template": "student"
      },
      "outputs": [],
      "source": [
        "# Plot annual maximum streamflow values"
      ],
      "id": "9fa7d566"
    },
    {
      "cell_type": "code",
      "execution_count": 7,
      "metadata": {
        "template": "answer"
      },
      "outputs": [],
      "source": [
        "# Plot annual maximum streamflow values\n",
        "peaks_df.plot(\n",
        "    figsize=(8, 4),\n",
        "    xlabel='Year',\n",
        "    ylabel='Daily Streamflow (cfs)',\n",
        "    title='Annual Maximum Daily Streamflow Values on the Cheyenne River',\n",
        "    legend=False)"
      ],
      "id": "2d8521ff"
    },
    {
      "cell_type": "markdown",
      "metadata": {},
      "source": [
        "<link rel=\"stylesheet\" type=\"text/css\" href=\"./assets/styles.css\"><div class=\"callout callout-style-default callout-titled callout-respond\"><div class=\"callout-header\"><div class=\"callout-icon-container\"><i class=\"callout-icon\"></i></div><div class=\"callout-title-container flex-fill\">Reflect and Respond</div></div><div class=\"callout-body-container callout-body\"><p>Write a headline and 2-3 sentence description of your plot. What is\n",
        "your visual estimate of the return period was for the flood in 2019?</p></div></div>"
      ],
      "id": "1f66ee2b-0b1a-4743-bff3-bbba733db329"
    },
    {
      "cell_type": "markdown",
      "metadata": {},
      "source": [
        "YOUR HEADLINE AND PLOT DESCRIPTION HERE"
      ],
      "id": "eb1dc657-369b-4d0e-afb5-6d5d508cc311"
    },
    {
      "cell_type": "markdown",
      "metadata": {},
      "source": [
        "### Select relevant data\n",
        "\n",
        "When calculating exceedance probabilities, we are making an assumption\n",
        "of **stationarity**, meaning that all the peak streamflows are drawn\n",
        "from the same **probability distribution**. Put another way, we only\n",
        "want to include data from years where the conditions on the river are\n",
        "similar to what they are now.\n",
        "\n",
        "Did you notice that the streamflow values from before 1950 or so? You\n",
        "should investigate any obvious causes of that discrepancy so we know if\n",
        "the pre-1950 data is relevant to current conditions.\n",
        "\n",
        "<link rel=\"stylesheet\" type=\"text/css\" href=\"./assets/styles.css\"><div class=\"callout callout-style-default callout-titled callout-respond\"><div class=\"callout-header\"><div class=\"callout-icon-container\"><i class=\"callout-icon\"></i></div><div class=\"callout-title-container flex-fill\">Reflect and Respond</div></div><div class=\"callout-body-container callout-body\"><p>What are some possible causes for peak streamflows to decrease\n",
        "systematically?</p></div></div>\n",
        "\n",
        "<link rel=\"stylesheet\" type=\"text/css\" href=\"./assets/styles.css\"><div class=\"callout callout-style-default callout-titled callout-info\"><div class=\"callout-header\"><div class=\"callout-icon-container\"><i class=\"callout-icon\"></i></div><div class=\"callout-title-container flex-fill\">Climate Change and Stationarity</div></div><div class=\"callout-body-container callout-body\"><p>One of the problems with adapting to climate change is that we can no\n",
        "longer assume stationarity in a lot of contexts. As scientists, we don’t\n",
        "yet have standard methods for incorporating climate change into flood\n",
        "return period calculations. You can read more about the debate of\n",
        "stationarity, climate change, and return periods in <a\n",
        "href=\"https://www.science.org/doi/10.1126/science.1151915\">a paper\n",
        "called ‘Stationarity is Dead’</a> and the many related response\n",
        "papers.</p></div></div>\n",
        "\n",
        "It turns out that construction on the Oahe dam on the Cheyenne River was\n",
        "started in 1948. We therefor don’t want to include any streamflow\n",
        "measurements before that date, because the Cheyenne River now as a much\n",
        "different flood response due to the dam. Dams tend to reduce peak\n",
        "streamflow, depending on how they are managed, but can cause other\n",
        "problems in the process.\n",
        "\n",
        "<link rel=\"stylesheet\" type=\"text/css\" href=\"./assets/styles.css\"><div class=\"callout callout-style-default callout-titled callout-read\"><div class=\"callout-header\"><div class=\"callout-icon-container\"><i class=\"callout-icon\"></i></div><div class=\"callout-title-container flex-fill\">Read More</div></div><div class=\"callout-body-container callout-body\"><p>Learn more about the Oahe Dam on <a\n",
        "href=\"https://en.wikipedia.org/wiki/Oahe_Dam\">its Wikipedia page</a>.\n",
        "You can also find some local perspectives on the dam in some of the\n",
        "articles about the 2019 flood at the beginning of this coding\n",
        "challenge.</p></div></div>\n",
        "\n",
        "<link rel=\"stylesheet\" type=\"text/css\" href=\"./assets/styles.css\"><div class=\"callout callout-style-default callout-titled callout-task\"><div class=\"callout-header\"><div class=\"callout-icon-container\"><i class=\"callout-icon\"></i></div><div class=\"callout-title-container flex-fill\">Try It</div></div><div class=\"callout-body-container callout-body\"><p>Remove years of data before the construction of the Oahe Dam. You can\n",
        "use a colon inside the square brackets of the <code>.loc</code>\n",
        "attribute to show that you would like all dates after a certain value,\n",
        "e.g. <code>'1950':</code></p></div></div>"
      ],
      "id": "6f394802-8282-4341-8c65-51f85aaa7c39"
    },
    {
      "cell_type": "code",
      "execution_count": 8,
      "metadata": {
        "template": "student"
      },
      "outputs": [],
      "source": [
        "# Select data from after dam construction"
      ],
      "id": "246e01b5"
    },
    {
      "cell_type": "code",
      "execution_count": 9,
      "metadata": {
        "template": "answer"
      },
      "outputs": [],
      "source": [
        "peaks_df = peaks_df.loc['1948':]\n",
        "peaks_df"
      ],
      "id": "1be86a2e"
    },
    {
      "cell_type": "markdown",
      "metadata": {},
      "source": [
        "### Calculate the exceedance probability and return period for 2019\n",
        "\n",
        "<link rel=\"stylesheet\" type=\"text/css\" href=\"./assets/styles.css\"><div class=\"callout callout-style-default callout-titled callout-extra\"><div class=\"callout-header\"><div class=\"callout-icon-container\"><i class=\"callout-icon\"></i></div><div class=\"callout-title-container flex-fill\">Looking for an Extra Challenge?</div></div><div class=\"callout-body-container callout-body\"><p>Calculate the <strong>exceedance probability</strong> and\n",
        "<strong>return period</strong> for each year of the\n",
        "<strong>annual</strong> data, and add them as columns to your\n",
        "DataFrame.</p>\n",
        "<ol type=\"1\">\n",
        "<li>Replace <code>df</code> with the name of your <strong>annual\n",
        "maximum</strong> <code>DataFrame</code>.</li>\n",
        "<li>Replace <code>col</code> with the name of your streamflow\n",
        "column</li>\n",
        "<li>Calculate the return period using Python mathematical operators</li>\n",
        "</ol></div></div>\n",
        "\n",
        "> **Tip**\n",
        ">\n",
        "> When you use a Python mathematical operator on a `pandas.DataFrame`\n",
        "> column, Python will do the calculation for every row in the\n",
        "> `DataFrame` automatically!\n",
        "\n",
        "> **Tip**\n",
        ">\n",
        "> When you rank the floods in your `DataFrame` with the `.rank()`\n",
        "> method, you will need the\n",
        "> ascending=False`parameter, by default the largest floods will have the higher number. We use`ascending=Falsa\\`\n",
        "> to reverse the rankings, since higher rank should be lower exceedence\n",
        "> probability."
      ],
      "id": "f01f32c5-56df-46ad-a9e5-966fc0ce8f76"
    },
    {
      "cell_type": "code",
      "execution_count": 10,
      "metadata": {
        "template": "student"
      },
      "outputs": [],
      "source": [
        "df['exceed_prob'] = (df.rank(ascending=False).col / len(df))\n",
        "df['return_period'] = \n",
        "\n",
        "peaks_df"
      ],
      "id": "a73647a0"
    },
    {
      "cell_type": "code",
      "execution_count": 11,
      "metadata": {
        "template": "answer"
      },
      "outputs": [],
      "source": [
        "# Make a copy so this is a dataframe and not a view\n",
        "peaks_df = peaks_df.copy()\n",
        "\n",
        "# Calculate exceedance probability\n",
        "peaks_df['exceed_prob'] = (\n",
        "    peaks_df.rank(ascending=False).streamflow_cfs \n",
        "    / len(peaks_df)\n",
        ")\n",
        "# Calculate return period\n",
        "peaks_df['return_period'] = 1 / peaks_df.exceed_prob\n",
        "\n",
        "peaks_df"
      ],
      "id": "ba3071a4"
    },
    {
      "cell_type": "markdown",
      "metadata": {},
      "source": [
        "<link rel=\"stylesheet\" type=\"text/css\" href=\"./assets/styles.css\"><div class=\"callout callout-style-default callout-titled callout-task\"><div class=\"callout-header\"><div class=\"callout-icon-container\"><i class=\"callout-icon\"></i></div><div class=\"callout-title-container flex-fill\">Try It</div></div><div class=\"callout-body-container callout-body\"><p>Select only the value for 2019.</p>\n",
        "<ol type=\"1\">\n",
        "<li>Replace <code>dataframe_name</code> with the name of your\n",
        "<code>DataFrame</code></li>\n",
        "<li>Inside the square brackets, type the year you want to select (2019).\n",
        "Make sure to surround the year with quotes, or Python will interpret\n",
        "this as a <strong>row number</strong>.</li>\n",
        "</ol></div></div>"
      ],
      "id": "eda95677-0b1d-4fa4-8a79-0447af80f49e"
    },
    {
      "cell_type": "code",
      "execution_count": 12,
      "metadata": {
        "template": "student"
      },
      "outputs": [],
      "source": [
        "dataframe_name.loc[]"
      ],
      "id": "9d44a66a"
    },
    {
      "cell_type": "code",
      "execution_count": 13,
      "metadata": {
        "template": "answer"
      },
      "outputs": [],
      "source": [
        "peaks_df.loc['2019']"
      ],
      "id": "31fe5344"
    },
    {
      "cell_type": "markdown",
      "metadata": {},
      "source": [
        "<link rel=\"stylesheet\" type=\"text/css\" href=\"./assets/styles.css\"><div class=\"callout callout-style-default callout-titled callout-respond\"><div class=\"callout-header\"><div class=\"callout-icon-container\"><i class=\"callout-icon\"></i></div><div class=\"callout-title-container flex-fill\">Reflect and Respond</div></div><div class=\"callout-body-container callout-body\"><p>What is the exceedance probability and return period for the 2019\n",
        "floods on the Cheyenne River?</p></div></div>"
      ],
      "id": "b49c94b0-f1f6-4e33-a910-c74a4281f1eb"
    },
    {
      "cell_type": "markdown",
      "metadata": {},
      "source": [
        "PROBABILITY AND RETURN PERIOD HERE"
      ],
      "id": "aed71b74-d0d8-4cf2-8b8a-bc8043ec944d"
    },
    {
      "cell_type": "markdown",
      "metadata": {},
      "source": [
        "## Wrap up\n",
        "\n",
        "Don’t forget to store your variables so you can use them in other\n",
        "notebooks! This code will store all your variables. You might want to\n",
        "specify specific variables, especially if you have large objects in\n",
        "memory that you won’t need in the future."
      ],
      "id": "9c0226b3-11fe-469f-ab82-a76551b8ef3a"
    },
    {
      "cell_type": "code",
      "execution_count": 14,
      "metadata": {},
      "outputs": [],
      "source": [
        "%store"
      ],
      "id": "a952b429"
    },
    {
      "cell_type": "markdown",
      "metadata": {},
      "source": [
        "Finally, be sure to `Restart` and `Run all` to make sure your notebook\n",
        "works all the way through!"
      ],
      "id": "6b7eff63-88af-40d0-8418-60f5c004d684"
    }
  ],
  "nbformat": 4,
  "nbformat_minor": 5,
  "metadata": {
    "kernelspec": {
      "name": "python3",
      "display_name": "Python 3 (ipykernel)",
      "language": "python",
      "path": "/Users/elsa/miniconda3/envs/learning-portal/share/jupyter/kernels/python3"
    },
    "language_info": {
      "name": "python",
      "codemirror_mode": {
        "name": "ipython",
        "version": "3"
      },
      "file_extension": ".py",
      "mimetype": "text/x-python",
      "nbconvert_exporter": "python",
      "pygments_lexer": "ipython3",
      "version": "3.10.17"
    }
  }
}